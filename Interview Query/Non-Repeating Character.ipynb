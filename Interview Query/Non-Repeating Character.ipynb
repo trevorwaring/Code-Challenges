{
 "cells": [
  {
   "cell_type": "markdown",
   "id": "7a78b4da",
   "metadata": {},
   "source": [
    "### **Find the First Non-Repeating Character in a String**"
   ]
  },
  {
   "cell_type": "markdown",
   "id": "8552723c",
   "metadata": {},
   "source": [
    "Given a string, find the first non-repeating character in it and return its index. If it doesn't exist, return -1.\n",
    "\n",
    "**Example 1:**\n",
    "**Input:**\n",
    "\n",
    ">```python\n",
    ">s = 'helloworld'\n",
    ">```\n",
    "\n",
    "**Output:**\n",
    "\n",
    ">```python\n",
    ">first_uniq_char(s) -> 0\n",
    ">```\n",
    "\n",
    "In the string `'helloworld'`. the first non-repeating character is `'h'`, which is at index 0.\n",
    "\n",
    "\n",
    "**Example 2:**\n",
    "**Input:**\n",
    ">```python\n",
    "> s = 'concussion'\n",
    ">```\n",
    "**Output:**\n",
    ">```python\n",
    "> first_uniq_char(s) -> 4\n",
    ">```\n",
    "\n",
    "In the string `'concussion'`. the first non-repeating character is `'u'`, which is at index 0.\n"
   ]
  },
  {
   "cell_type": "code",
   "execution_count": null,
   "id": "b4f04d9e",
   "metadata": {},
   "outputs": [],
   "source": [
    "# Solution1: Using Counter from collections\n",
    "\n",
    "from collections import Counter\n",
    "\n",
    "def first_uniq_char(s):\n",
    "    freq = Counter(s)\n",
    "    for i, c in enumerate(s):\n",
    "        if freq[c] == 1:\n",
    "            return i\n",
    "    return -1\n",
    "\n",
    "# test = first_uniq_char(\"leetcode\")\n",
    "# test = first_uniq_char(\"lleettccoodde\")\n",
    "# print(test)  # Output: 0\n",
    "\n",
    "\n",
    "\n",
    "# Solution2: without using Counter\n",
    "\n",
    "def first_non_repeating_char(s: str) -> int:\n",
    "    char_count = {}\n",
    "\n",
    "# Calculate the frequency of each character in the string\n",
    "    for i in s:\n",
    "        if i in char_count:\n",
    "            char_count[i] = char_count.get(i, 0) + 1\n",
    "        else:\n",
    "            char_count[i] = 1\n",
    "\n",
    "# Iterate through the string to find the first non-repeating character\n",
    "    for i in range(len(s)):\n",
    "        if char_count[s[i]] == 1:\n",
    "            return i\n",
    "    return -1  # Return -1 if no non-repeating character is found\n",
    "\n",
    "# Test the function\n",
    "test = first_non_repeating_char(\"lleettccoodde\")\n",
    "print(test)  # Output: -1 (since all characters repeat)"
   ]
  }
 ],
 "metadata": {
  "language_info": {
   "name": "python"
  }
 },
 "nbformat": 4,
 "nbformat_minor": 5
}
