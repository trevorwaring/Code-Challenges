{
 "cells": [
  {
   "cell_type": "markdown",
   "id": "704dff85",
   "metadata": {},
   "source": [
    "### __Contains Duplicate (LeetCode 217)__"
   ]
  },
  {
   "cell_type": "markdown",
   "id": "f7db0a70",
   "metadata": {},
   "source": [
    "Given an integer array `nums`, return `true` if any value appears **at least twice** in the array, and return `false` if every element is distinct\n",
    "\n",
    "For instance, \n",
    "1. **Input:** nums = [1,2,3,1]   \n",
    "   **Output:** true\n",
    "\n",
    "2. **Input:** nums = [1,2,3,4]   \n",
    "   **Output:** false\n",
    "\n",
    "3. **Input:** nums = [1,1,1,3,3,4,3,2,4,2]   \n",
    "   **Output:** true\n",
    "\n",
    "Concepts discussed in Neetcode video: HashSet\n",
    "\n",
    "Questions:\n",
    "1. What is Time and Space Complexity ?\n",
    "2. Data Structure used in the solution? "
   ]
  },
  {
   "cell_type": "code",
   "execution_count": 1,
   "id": "622293d4",
   "metadata": {},
   "outputs": [],
   "source": [
    "# Return True if any value appears at least twice in the array, and False if every element is distinct.\n",
    "class Solution:\n",
    "    def containsDuplicate(self, nums: list[int]) -> bool:\n",
    "        \"\"\"\n",
    "        :type nums: List[int]\n",
    "        :rtype: bool\n",
    "        \"\"\"\n",
    "        seen = set()    # HashSet to store unique elements\n",
    "        for num in nums:\n",
    "            if num in seen:\n",
    "                return True\n",
    "            seen.add(num)\n",
    "        return False"
   ]
  },
  {
   "cell_type": "code",
   "execution_count": 2,
   "id": "6a161bdc",
   "metadata": {},
   "outputs": [
    {
     "name": "stdout",
     "output_type": "stream",
     "text": [
      "All test cases passed!\n"
     ]
    }
   ],
   "source": [
    "# Test cases\n",
    "def test():\n",
    "    solution = Solution()\n",
    "    assert solution.containsDuplicate([1, 2, 3, 1]) == True\n",
    "    assert solution.containsDuplicate([1, 2, 3, 4]) == False\n",
    "    assert solution.containsDuplicate([1, 1, 1, 3, 3, 4, 3, 2, 4, 2]) == True\n",
    "    assert solution.containsDuplicate([]) == False\n",
    "    assert solution.containsDuplicate([1]) == False\n",
    "    return \"All test cases passed!\"\n",
    "\n",
    "\n",
    "if __name__ == \"__main__\":\n",
    "    v = test()\n",
    "    print(v)  # Output: All test cases passed!"
   ]
  }
 ],
 "metadata": {
  "kernelspec": {
   "display_name": "Python 3",
   "language": "python",
   "name": "python3"
  },
  "language_info": {
   "codemirror_mode": {
    "name": "ipython",
    "version": 3
   },
   "file_extension": ".py",
   "mimetype": "text/x-python",
   "name": "python",
   "nbconvert_exporter": "python",
   "pygments_lexer": "ipython3",
   "version": "3.12.1"
  }
 },
 "nbformat": 4,
 "nbformat_minor": 5
}
