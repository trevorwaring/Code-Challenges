{
 "cells": [
  {
   "cell_type": "markdown",
   "id": "704dff85",
   "metadata": {},
   "source": [
    "### __Top K Frequent Elements (LeetCode 347)__"
   ]
  },
  {
   "cell_type": "markdown",
   "id": "f7db0a70",
   "metadata": {},
   "source": [
    "Given an integer array `nums` and an integer `k` return the `k` *most frequent elements*. You may return the answer in **any order**.\n",
    "\n",
    "For instance\n",
    "**Example 1:** \n",
    "- **Input:** nums = [1,1,1,2,2,3], k = 2\n",
    "- **Output:** [1,2]\n",
    "  \n",
    "**Example 2:**\n",
    "- **Input:** nums = [1], k = 1\n",
    "- **Output:** [1]\n",
    "\n",
    "**Constraints**\n",
    "- 1 <= nums. length <= 10^5^\n",
    "- k is in the range [1, the number of unique elements in the array].\n",
    "- It is guaranteed that the answer is unique. \n",
    "  \n",
    "**Concepts discussed in Neetcode video:**\n",
    "- Sorting an Array, Max Heap, Bucket Sort\n",
    "- Ultimate solution: HashMap"
   ]
  },
  {
   "cell_type": "code",
   "execution_count": 3,
   "id": "622293d4",
   "metadata": {},
   "outputs": [
    {
     "name": "stdout",
     "output_type": "stream",
     "text": [
      "[1, 2]\n"
     ]
    }
   ],
   "source": [
    "class Solution:\n",
    "    def topkfrequenecy(self, nums: list[int], k:int) -> list[int]:\n",
    "        count = {}\n",
    "        freq = [[] for i in range(len(nums) + 1)]\n",
    "\n",
    "        for n in nums:\n",
    "            count[n] = count.get(n, 0) + 1\n",
    "\n",
    "        for n, c in count.items():\n",
    "            freq[c].append(n)\n",
    "        \n",
    "        res =[] \n",
    "        for i in range(len(freq)-1, 0, -1):\n",
    "            for n in freq[i]:\n",
    "                res.append(n)\n",
    "                if len(res) == k:\n",
    "                    return res\n",
    "    \n",
    "\n",
    "result = Solution().topkfrequenecy([1, 1, 1, 2, 2, 3], 2)\n",
    "print(result)   \n",
    "\t\t\n",
    "\t\t"
   ]
  }
 ],
 "metadata": {
  "kernelspec": {
   "display_name": "Python 3",
   "language": "python",
   "name": "python3"
  },
  "language_info": {
   "codemirror_mode": {
    "name": "ipython",
    "version": 3
   },
   "file_extension": ".py",
   "mimetype": "text/x-python",
   "name": "python",
   "nbconvert_exporter": "python",
   "pygments_lexer": "ipython3",
   "version": "3.12.1"
  }
 },
 "nbformat": 4,
 "nbformat_minor": 5
}
