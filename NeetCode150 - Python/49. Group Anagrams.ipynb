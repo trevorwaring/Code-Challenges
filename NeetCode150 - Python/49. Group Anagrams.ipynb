{
 "cells": [
  {
   "cell_type": "markdown",
   "id": "704dff85",
   "metadata": {},
   "source": [
    "### __Group Anagrams (LeetCode 49)__"
   ]
  },
  {
   "cell_type": "markdown",
   "id": "f7db0a70",
   "metadata": {},
   "source": [
    "Given an array of strings `strs`,  group **the anagrams**  together. You can return the answer in any order\n",
    "\n",
    "An **Anagram** is a word or phrase formed by rearranging the letters of a different word or phrase, typically using all the original letters exactly once. \n",
    "\n",
    "For instance, \n",
    "- **Input:** strs = [\"eat\", \"tea\", \"tan\", \"ate\", \"nat\", \"bat\"]\n",
    "- **Output:** [ [\"bat\"], [\"nat\", \"tan\"], [\"ate\", \"eat\", \"tea\"] ]\n",
    "  \n",
    "\n",
    "Concepts discussed in Neetcode video: Sorting an Array, Linear Search vs Binary Search, HashMap."
   ]
  },
  {
   "cell_type": "code",
   "execution_count": 7,
   "id": "622293d4",
   "metadata": {},
   "outputs": [
    {
     "name": "stdout",
     "output_type": "stream",
     "text": [
      "Test passed!\n"
     ]
    }
   ],
   "source": [
    "from collections import defaultdict\n",
    "\n",
    "class Solution:\n",
    "    def groupAnagrams(self, strs: list[str]) -> list[list[int]]:\n",
    "        res = defaultdict(list)  # mapping charCount to list of Anagrams\n",
    "        \n",
    "        # For each string, count the characters and use that as a key\n",
    "        # to group anagrams together\n",
    "        for s in strs:\n",
    "            charCount = [0] * 26\n",
    "            \n",
    "            # Count characters in the string\n",
    "            for c in s:\n",
    "                charCount[ord(c) - ord('a')] += 1\n",
    "            \n",
    "            res[tuple(charCount)].append(s)\n",
    "\n",
    "        return list(res.values())\n",
    "\n",
    "\n",
    "# Test function for groupAnagrams\n",
    "def test():\n",
    "    solution = Solution()\n",
    "    result = solution.groupAnagrams([\"eat\", \"tea\", \"tan\", \"ate\", \"nat\", \"bat\"])\n",
    "    expected = [[\"eat\", \"tea\", \"ate\"], [\"tan\", \"nat\"], [\"bat\"]] \n",
    "    assert sorted(result) == sorted(expected), \"Test failed!\"\n",
    "    return \"Test passed!\"\n",
    "\n",
    "\n",
    "\n",
    "\n",
    "if __name__ == \"__main__\":\n",
    "    v = test()\n",
    "    print(v)  # Output: Test passed!\n",
    "        "
   ]
  }
 ],
 "metadata": {
  "kernelspec": {
   "display_name": "Python 3",
   "language": "python",
   "name": "python3"
  },
  "language_info": {
   "codemirror_mode": {
    "name": "ipython",
    "version": 3
   },
   "file_extension": ".py",
   "mimetype": "text/x-python",
   "name": "python",
   "nbconvert_exporter": "python",
   "pygments_lexer": "ipython3",
   "version": "3.12.1"
  }
 },
 "nbformat": 4,
 "nbformat_minor": 5
}
