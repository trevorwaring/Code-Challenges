{
 "cells": [
  {
   "cell_type": "markdown",
   "id": "704dff85",
   "metadata": {},
   "source": [
    "### __Product of Array Except Self (LeetCode 238)__"
   ]
  },
  {
   "cell_type": "markdown",
   "id": "f7db0a70",
   "metadata": {},
   "source": [
    "Given an integer array `nums`, return *an array* `answer` *such that* answer[i] *is equal to the product of all elements of* `nums` *except* nums[i]. \n",
    "\n",
    "The product of any prefix or suffix of `nums` is **guaranteed** to fit in a **32-bit** integer.\n",
    "\n",
    "You must write an algorithm that runs in O(n) time without using the division operation\n",
    "\n",
    "For instance\n",
    "**Example 1:** \n",
    "- **Input:** nums = [1,2,3,4]\n",
    "- **Output:** [24, 12, 8, 6]\n",
    "  \n",
    "**Example 2:**\n",
    "- **Input:** nums = [-1, 1, 0, 3, -3]\n",
    "- **Output:** [0,0,9,0,0]\n",
    "\n",
    "  \n",
    "**Concepts discussed in Neetcode video:**\n",
    "- Arrays"
   ]
  },
  {
   "cell_type": "code",
   "execution_count": 5,
   "id": "622293d4",
   "metadata": {},
   "outputs": [
    {
     "name": "stdout",
     "output_type": "stream",
     "text": [
      "[24, 12, 8, 6]\n"
     ]
    }
   ],
   "source": [
    "class Solution:\n",
    "    def ProductExceptSelf(self, nums: list[int]) -> list[int]:\n",
    "        res = [1] * len(nums)\n",
    "\n",
    "\n",
    "        prefix = 1\n",
    "        for i in range(len(nums)):\n",
    "            res[i] = prefix\n",
    "            prefix *= nums[i]\n",
    "\n",
    "        postfix = 1\n",
    "        \n",
    "        for i in range(len(nums)-1, -1, -1):\n",
    "            res[i] *= postfix\n",
    "            postfix *= nums[i]\n",
    "        \n",
    "        return res\n",
    "    \n",
    "test = Solution().ProductExceptSelf([1,2,3,4])\n",
    "print(test)\n",
    "# Output: [24, 12, 8, 6]"
   ]
  }
 ],
 "metadata": {
  "kernelspec": {
   "display_name": "Python 3",
   "language": "python",
   "name": "python3"
  },
  "language_info": {
   "codemirror_mode": {
    "name": "ipython",
    "version": 3
   },
   "file_extension": ".py",
   "mimetype": "text/x-python",
   "name": "python",
   "nbconvert_exporter": "python",
   "pygments_lexer": "ipython3",
   "version": "3.12.1"
  }
 },
 "nbformat": 4,
 "nbformat_minor": 5
}
