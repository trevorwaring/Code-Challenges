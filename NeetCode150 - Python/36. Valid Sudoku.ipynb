{
 "cells": [
  {
   "cell_type": "markdown",
   "id": "704dff85",
   "metadata": {},
   "source": [
    "### __Valid Sudoku (LeetCode 36)__"
   ]
  },
  {
   "cell_type": "markdown",
   "id": "f7db0a70",
   "metadata": {},
   "source": [
    "Determine if a `9 x 9` Sudoku board is valid. Only the filled cells need to be validated **according to the following rules**:\n",
    "\n",
    "1. Each row must contain the digits `1-9` without reptition.\n",
    "2. Each column must contain the digits `1-9` without repetition.\n",
    "3. Each of the nine `3 x 3` sub-boxes of the grid must contain the digits `1-9` without repetition.\n",
    "\n",
    "**Note:**\n",
    "- A Sudoku board(partially filled) could be valid but it is not necessarily solvable.\n",
    "- Only the filled cells need to be validated according to the mentioned rules.\n",
    "\n",
    "**Example 1:**\n",
    "> Image Missing\n",
    "  \n",
    "**Concepts discussed in Neetcode video:**\n",
    "- To be updated"
   ]
  },
  {
   "cell_type": "code",
   "execution_count": null,
   "id": "622293d4",
   "metadata": {},
   "outputs": [],
   "source": []
  }
 ],
 "metadata": {
  "kernelspec": {
   "display_name": "Python 3",
   "language": "python",
   "name": "python3"
  },
  "language_info": {
   "codemirror_mode": {
    "name": "ipython",
    "version": 3
   },
   "file_extension": ".py",
   "mimetype": "text/x-python",
   "name": "python",
   "nbconvert_exporter": "python",
   "pygments_lexer": "ipython3",
   "version": "3.12.1"
  }
 },
 "nbformat": 4,
 "nbformat_minor": 5
}
