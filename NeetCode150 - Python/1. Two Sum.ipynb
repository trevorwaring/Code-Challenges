{
 "cells": [
  {
   "cell_type": "markdown",
   "id": "704dff85",
   "metadata": {},
   "source": [
    "### __Two Sums (LeetCode 1)__"
   ]
  },
  {
   "cell_type": "markdown",
   "id": "f7db0a70",
   "metadata": {},
   "source": [
    "Given an array of integers, `nums` and an integer `target`, return indices of the two numbers such that they add up to `target`.\n",
    "\n",
    "You may assume that each input would have **exactly one solution**, and you may not use the same element twice.  \n",
    "\n",
    "You can return the answer in any order.\n",
    "\n",
    "For instance, \n",
    "1. Give nums = [15, 7, 2, 11] & target = 9, because nums[1] + nums[2] =  2 + 7 = 9, return [0,1]\n",
    "2. Give nums = [2, 7, 11, 15] & target = 9, because nums[0] + nums[1] =  2 + 7 = 9, return [0,1]\n",
    "\n",
    "Concepts discussed in Neetcode video: Sorting an Array, Linear Search vs Binary Search, HashMap."
   ]
  },
  {
   "cell_type": "code",
   "execution_count": 23,
   "id": "622293d4",
   "metadata": {},
   "outputs": [],
   "source": [
    "class Solution:\n",
    "    def isTwoSum(self, nums: list[int], target: int) -> list[int]:\n",
    "        diffmap ={}     # key: num, value: index\n",
    "\n",
    "        for index, num in enumerate(nums):\n",
    "            diff = target - num\n",
    "            if diff in diffmap:\n",
    "                return[diffmap[diff], index]\n",
    "            diffmap[num] = index"
   ]
  },
  {
   "cell_type": "code",
   "execution_count": 24,
   "id": "6a161bdc",
   "metadata": {},
   "outputs": [
    {
     "name": "stdout",
     "output_type": "stream",
     "text": [
      "Test passed!\n"
     ]
    }
   ],
   "source": [
    "def test():\n",
    "    # assert Solution.isTwoSum([15, 7, 2, 11], 9) == [1, 2]\n",
    "    # assert Solution.isTwoSum([3, 2, 4], 6) == [1, 2]\n",
    "    # assert Solution.isTwoSum([3, 3], 6) == [0, 1]\n",
    "    # assert Solution.isTwoSum([1, 2, 3], 5) == [1, 2]\n",
    "    # assert Solution.isTwoSum([1, 2, 3], 7) == None\n",
    "    solution = Solution()\n",
    "    assert solution.isTwoSum([15, 7, 2, 11], 9) == [1,2]\n",
    "    return \"Test passed!\"\n",
    "\n",
    "if __name__ == \"__main__\":\n",
    "    v = test()\n",
    "    print(v)  # Output: Test passed!"
   ]
  }
 ],
 "metadata": {
  "kernelspec": {
   "display_name": "Python 3",
   "language": "python",
   "name": "python3"
  },
  "language_info": {
   "codemirror_mode": {
    "name": "ipython",
    "version": 3
   },
   "file_extension": ".py",
   "mimetype": "text/x-python",
   "name": "python",
   "nbconvert_exporter": "python",
   "pygments_lexer": "ipython3",
   "version": "3.12.1"
  }
 },
 "nbformat": 4,
 "nbformat_minor": 5
}
